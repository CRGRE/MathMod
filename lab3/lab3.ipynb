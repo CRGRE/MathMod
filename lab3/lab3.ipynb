{
 "cells": [
  {
   "cell_type": "code",
   "execution_count": 1,
   "metadata": {},
   "outputs": [],
   "source": [
    "import numpy as np\n",
    "import matplotlib.pyplot as plt\n",
    "from scipy.integrate import solve_ivp"
   ]
  },
  {
   "cell_type": "code",
   "execution_count": 9,
   "metadata": {},
   "outputs": [
    {
     "data": {
      "text/plain": [
       "[<matplotlib.lines.Line2D at 0x1dc21ba65b0>,\n",
       " <matplotlib.lines.Line2D at 0x1dc21ba6670>]"
      ]
     },
     "execution_count": 9,
     "metadata": {},
     "output_type": "execute_result"
    },
    {
     "data": {
      "image/png": "[encoded data removed]",
      "text/plain": [
       "<Figure size 432x288 with 1 Axes>"
      ]
     },
     "metadata": {
      "needs_background": "light"
     },
     "output_type": "display_data"
    }
   ],
   "source": [
    "x0 = 100000\n",
    "y0 = 10000\n",
    "\n",
    "a = 0.12\n",
    "b = 0.9\n",
    "c = 0.3\n",
    "h = 0.1\n",
    "\n",
    "def P(t):\n",
    "    return abs(np.sin(t))\n",
    "def Q(t):\n",
    "    return abs(np.cos(t))\n",
    "\n",
    "t0 = 0\n",
    "tmax = 0.5\n",
    "\n",
    "dt = 0.01\n",
    "\n",
    "t = np.arange(t0, tmax, dt)\n",
    "\n",
    "def syst(t, y):\n",
    "    return [-a * y[0] - b * y[1] + P(t), -c * y[0] - h * y[1] + Q(t)]\n",
    "\n",
    "y = solve_ivp(syst, [t0, tmax], [x0, y0], t_eval = t).y\n",
    "\n",
    "for i in range(len(y[0])):\n",
    "    if y[0][i] < 0:\n",
    "        y[0][i] = 0\n",
    "    if y[1][i] < 0:\n",
    "        y[1][i] = 0\n",
    "\n",
    "plt.plot(t, y.T)"
   ]
  },
  {
   "cell_type": "code",
   "execution_count": 14,
   "metadata": {},
   "outputs": [
    {
     "data": {
      "text/plain": [
       "[<matplotlib.lines.Line2D at 0x1dc21d71820>,\n",
       " <matplotlib.lines.Line2D at 0x1dc21d718e0>]"
      ]
     },
     "execution_count": 14,
     "metadata": {},
     "output_type": "execute_result"
    },
    {
     "data": {
      "image/png": "[encoded data removed]",
      "text/plain": [
       "<Figure size 432x288 with 1 Axes>"
      ]
     },
     "metadata": {
      "needs_background": "light"
     },
     "output_type": "display_data"
    }
   ],
   "source": [
    "x0 = 100000\n",
    "y0 = 10000\n",
    "\n",
    "a = 0.25\n",
    "b = 0.96\n",
    "c = 0.25\n",
    "h = 0.3\n",
    "\n",
    "def P(t):\n",
    "    return np.sin(2 * t) + 1\n",
    "def Q(t):\n",
    "    return np.cos(20 * t) + 1\n",
    "\n",
    "t0 = 0\n",
    "tmax = 0.1\n",
    "\n",
    "dt = 0.005\n",
    "\n",
    "t = np.arange(t0, tmax, dt)\n",
    "\n",
    "def syst(t, y):\n",
    "    return [-a * y[0] - b * y[1] + P(t), -c * y[0] * y[1] - h * y[1] + Q(t)]\n",
    "\n",
    "y = solve_ivp(syst, [t0, tmax], [x0, y0], t_eval = t).y\n",
    "\n",
    "for i in range(len(y[0])):\n",
    "    if y[0][i] < 0:\n",
    "        y[0][i] = 0\n",
    "    if y[1][i] < 0:\n",
    "        y[1][i] = 0\n",
    "\n",
    "plt.plot(t, y.T)"
   ]
  }
 ],
 "metadata": {
  "kernelspec": {
   "display_name": "Python 3",
   "language": "python",
   "name": "python3"
  },
  "language_info": {
   "codemirror_mode": {
    "name": "ipython",
    "version": 3
   },
   "file_extension": ".py",
   "mimetype": "text/x-python",
   "name": "python",
   "nbconvert_exporter": "python",
   "pygments_lexer": "ipython3",
   "version": "3.8.5"
  }
 },
 "nbformat": 4,
 "nbformat_minor": 4
}
